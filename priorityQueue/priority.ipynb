{
 "cells": [
  {
   "cell_type": "markdown",
   "metadata": {},
   "source": [
    "Aleksandra Koroza\n",
    "\n",
    "Mr. Brooks AI Pd. 9\n",
    "09/23/18\n",
    "\n",
    "Implementing priority queue"
   ]
  },
  {
   "cell_type": "markdown",
   "metadata": {},
   "source": [
    "Create a class called Pqueue which implements a min-priority queue. In other words, you'll always be removing (popping) the smallest element off the queue.  You'll need this class in later program(s).\n",
    "\n",
    "_Implement this queue using a Python list as the underlying data structure._\n",
    "\n",
    "The class should implement the following methods:\n",
    "        push(data)  This will push an element onto the queue.\n",
    "        pop()  This will pop the smallest element off the queue or None if the queue is empty.\n",
    "        peek()   This will return the smallest element in queue without disturbing the queue.  It should return None if the queue is empty."
   ]
  },
  {
   "cell_type": "markdown",
   "metadata": {},
   "source": [
    "You may need to provide Pqueue with a function to compare two elements, because the usual Python comparison operators (e.g. \"<\", \">=\", etc.) are not appropriate for the data you're storing in the queue.  For instance, suppose you want to store **lists** as elements in the queue, and to compare one list to another by their lengths -- so that you'll always be popping the shortest list you've previously stored off the queue.  In that case you'll have to provide Pqueue with a comparison function that will tell it when one list is smaller than another.\n",
    "\n",
    "_A valid comparison function takes 2 arguments and returns -1 if the first is smaller than the second, 0 if they're equal, and 1 if the second is larger._\n",
    "\n",
    "So, for your Pqueue with lists as elements, you can code the comparison function below:"
   ]
  },
  {
   "cell_type": "code",
   "execution_count": 66,
   "metadata": {},
   "outputs": [],
   "source": [
    "def my_cmp(a,b):\n",
    "    if len(a) < len(b): return -1\n",
    "    if len(a) == len(b): return 0\n",
    "    return 1"
   ]
  },
  {
   "cell_type": "code",
   "execution_count": 67,
   "metadata": {},
   "outputs": [],
   "source": [
    "import math\n",
    "class Pqueue: #minheap\n",
    "\n",
    "    def OrdComp(a,b): #ordinary comparison\n",
    "        if a < b: return -1\n",
    "        if a == b: return 0\n",
    "        return 1\n",
    "\n",
    "    def __init__(self, comparator = OrdComp):\n",
    "        self.cmpfunc = comparator\n",
    "        self.heap = []\n",
    "        self.root = None\n",
    "        self.size= 0\n",
    "        \n",
    "    # parent: floor((index-1)/2)\n",
    "    # left: (2*index)+1\n",
    "    # right: (2*index)+2\n",
    "    # list populated started with 0'th index\n",
    "    def push(self, data): #push element on to queue\n",
    "        if self.size==0: #no elements\n",
    "            self.heap.append(data)\n",
    "            self.root= data\n",
    "            self.size+=1\n",
    "        else:\n",
    "            self.heap.append(data)#add element to list\n",
    "            index= self.size\n",
    "            while True:\n",
    "                pInd= int(math.floor((index-1)/2))\n",
    "                print(pInd)\n",
    "                pValue= self.heap[pInd]\n",
    "                print(index)\n",
    "                if self.cmpfunc(data,pValue)> 0: #if input is less than parent\n",
    "                    self.swap(self.heap,index,pInd)\n",
    "                    index=pInd\n",
    "                else:\n",
    "                    return\n",
    "            \n",
    "            \n",
    "    def pop(self): #pop smallest element or None if queue is empty\n",
    "        pass\n",
    "    def peek(self): #peek at at the smallest element\n",
    "        return self.root\n",
    "    \n",
    "   \n",
    "    def swap(self,lst,pos1,pos2):\n",
    "        pos1Val=lst[pos1]\n",
    "        pos2Val= lst[pos2]\n",
    "        lst[pos1]= pos2Val\n",
    "        lst[pos2]= pos1Val"
   ]
  },
  {
   "cell_type": "code",
   "execution_count": 68,
   "metadata": {},
   "outputs": [
    {
     "name": "stdout",
     "output_type": "stream",
     "text": [
      "0\n",
      "1\n",
      "0\n",
      "1\n",
      "[2, 'hello', [4, 3]]\n"
     ]
    }
   ],
   "source": [
    "#testing \n",
    "Fred = Pqueue(my_cmp)\n",
    "\n",
    "Fred.push([2,\"hello\",[4,3]])\n",
    "Fred.push([98.33])\n",
    "Fred.push([\"Why not?\",\"...because\"])\n",
    "print (Fred.peek())\n",
    "#print (Fred.pop())\n",
    "#print (Fred.pop())\n",
    "#print (Fred.pop())\n",
    "#print (Fred.pop())"
   ]
  }
 ],
 "metadata": {
  "kernelspec": {
   "display_name": "Python 2",
   "language": "python",
   "name": "python2"
  },
  "language_info": {
   "codemirror_mode": {
    "name": "ipython",
    "version": 2
   },
   "file_extension": ".py",
   "mimetype": "text/x-python",
   "name": "python",
   "nbconvert_exporter": "python",
   "pygments_lexer": "ipython2",
   "version": "2.7.12"
  }
 },
 "nbformat": 4,
 "nbformat_minor": 2
}
