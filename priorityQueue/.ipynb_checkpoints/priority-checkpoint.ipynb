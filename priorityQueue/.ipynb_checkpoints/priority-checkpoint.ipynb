{
 "cells": [
  {
   "cell_type": "markdown",
   "metadata": {},
   "source": [
    "Aleksandra Koroza\n",
    "\n",
    "Mr. Brooks AI Pd. 9\n",
    "09/23/18\n",
    "\n",
    "Implementing priority queue"
   ]
  },
  {
   "cell_type": "markdown",
   "metadata": {},
   "source": [
    "Create a class called Pqueue which implements a min-priority queue. In other words, you'll always be removing (popping) the smallest element off the queue.  You'll need this class in later program(s).\n",
    "\n",
    "_Implement this queue using a Python list as the underlying data structure._\n",
    "\n",
    "The class should implement the following methods:\n",
    "        push(data)  This will push an element onto the queue.\n",
    "        pop()  This will pop the smallest element off the queue or None if the queue is empty.\n",
    "        peek()   This will return the smallest element in queue without disturbing the queue.  It should return None if the queue is empty."
   ]
  },
  {
   "cell_type": "markdown",
   "metadata": {},
   "source": [
    "You may need to provide Pqueue with a function to compare two elements, because the usual Python comparison operators (e.g. \"<\", \">=\", etc.) are not appropriate for the data you're storing in the queue.  For instance, suppose you want to store **lists** as elements in the queue, and to compare one list to another by their lengths -- so that you'll always be popping the shortest list you've previously stored off the queue.  In that case you'll have to provide Pqueue with a comparison function that will tell it when one list is smaller than another.\n",
    "\n",
    "_A valid comparison function takes 2 arguments and returns -1 if the first is smaller than the second, 0 if they're equal, and 1 if the second is larger._\n",
    "\n",
    "So, for your Pqueue with lists as elements, you can code the comparison function below:"
   ]
  },
  {
   "cell_type": "code",
   "execution_count": 43,
   "metadata": {},
   "outputs": [],
   "source": [
    "def my_cmp(a,b):\n",
    "    if len(a) < len(b): return -1\n",
    "    if len(a) == len(b): return 0\n",
    "    return 1"
   ]
  },
  {
   "cell_type": "code",
   "execution_count": 44,
   "metadata": {},
   "outputs": [],
   "source": [
    "import math\n",
    "class Pqueue: #minheap\n",
    "\n",
    "    def OrdComp(a,b): #ordinary comparison\n",
    "        if a < b: return -1\n",
    "        if a == b: return 0\n",
    "        return 1\n",
    "\n",
    "    def __init__(self, comparator = OrdComp):\n",
    "        self.cmpfunc = comparator\n",
    "        self.heap = [\"DNE\"]\n",
    "        self.size = 0\n",
    "        \n",
    "    # parent: floor(index/2)\n",
    "    # left: (2*index)\n",
    "    # right: (2*index)+1\n",
    "    # list populated started with 1st index\n",
    "    def push(self, data): \n",
    "        if self.size == 0:\n",
    "            self.heap.append(data) #start at index 1\n",
    "            self.size+= 1\n",
    "        else:\n",
    "            self.heap.append(data)#add element to list\n",
    "            self.size+= 1\n",
    "            index= self.size\n",
    "            \n",
    "            while (index>1 and self.cmpfunc(self.heap[int(math.floor(index/2))],data))>0:#while parent is bigger than child...\n",
    "                self.heap[index]= self.heap[int(math.floor(index/2))] #parent value\n",
    "                index = int(math.floor(index/2)) #parent index\n",
    "            self.heap[index]=data\n",
    "            \n",
    "    def pop(self): #pop smallest element or None if queue is empty\n",
    "        def toHeap(index): #heapifies the removed index\n",
    "            left= index*2\n",
    "            right= (index*2)+1\n",
    "            bigger= index\n",
    "            \n",
    "            if left<=self.size-1 and self.cmpfunc(self.heap[left],self.heap[right])>0:\n",
    "                bigger=left\n",
    "            if right<= self.size-1 and self.cmpfunc(self.heap[right],self.heap[bigger])>0:\n",
    "                bigger=right\n",
    "            if bigger != index:\n",
    "                self.swap(self.heap,index,bigger)\n",
    "                toHeap(bigger)\n",
    "                \n",
    "        if self.size ==0:\n",
    "            return None\n",
    "        root=self.heap[1]\n",
    "            \n",
    "        self.heap[1]=self.heap[self.size-1]\n",
    "        del self.heap[self.size-1]\n",
    "        self.size-=1\n",
    "            \n",
    "        toHeap(1)\n",
    "        return root\n",
    "        \n",
    "            \n",
    "    def peek(self): #peek at at the smallest element\n",
    "        if len(self.heap)<2:\n",
    "            print(\"Queue is empty\")\n",
    "        else:\n",
    "            return self.heap[1]\n",
    "        \n",
    "    def toList(self,pqueue):\n",
    "        lst=[]\n",
    "        numElems= pqueue.size\n",
    "        if numElems==0:\n",
    "            return []\n",
    "        for i in range(numElems):\n",
    "            lst.append(pqueue.pop())\n",
    "        return lst\n",
    "    \n",
    "   \n",
    "    def swap(self,lst,pos1,pos2):\n",
    "        pos1Val=lst[pos1]\n",
    "        pos2Val= lst[pos2]\n",
    "        lst[pos1]= pos2Val\n",
    "        lst[pos2]= pos1Val"
   ]
  },
  {
   "cell_type": "code",
   "execution_count": null,
   "metadata": {},
   "outputs": [],
   "source": []
  },
  {
   "cell_type": "code",
   "execution_count": 45,
   "metadata": {},
   "outputs": [
    {
     "name": "stdout",
     "output_type": "stream",
     "text": [
      "Queue is empty\n",
      "None\n",
      "popping\n",
      "[9]\n",
      "[2, 'hello', [4, 3]]\n",
      "['Why not?', '...because']\n",
      "[2]\n",
      "[98.33, 2]\n"
     ]
    }
   ],
   "source": [
    "#testing \n",
    "Fred = Pqueue(my_cmp)\n",
    "print (Fred.peek())\n",
    "Fred.push([9])\n",
    "Fred.push([98.33,2])\n",
    "Fred.push([\"Why not?\",\"...because\"])\n",
    "Fred.push([2,\"hello\",[4,3]])\n",
    "Fred.push([2])\n",
    "#print(Fred.peek())\n",
    "#print (Fred.peek())\n",
    "print(\"popping\")\n",
    "#print(Fred.toList(Fred))\n",
    "#print(Fred.peek())\n",
    "print (Fred.pop())\n",
    "print (Fred.pop())\n",
    "print (Fred.pop())\n",
    "print (Fred.pop())\n",
    "print (Fred.pop())"
   ]
  }
 ],
 "metadata": {
  "kernelspec": {
   "display_name": "Python 2",
   "language": "python",
   "name": "python2"
  },
  "language_info": {
   "codemirror_mode": {
    "name": "ipython",
    "version": 2
   },
   "file_extension": ".py",
   "mimetype": "text/x-python",
   "name": "python",
   "nbconvert_exporter": "python",
   "pygments_lexer": "ipython2",
   "version": "2.7.12"
  }
 },
 "nbformat": 4,
 "nbformat_minor": 2
}
